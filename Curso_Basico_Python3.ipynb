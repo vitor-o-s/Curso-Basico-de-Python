{
  "nbformat": 4,
  "nbformat_minor": 0,
  "metadata": {
    "colab": {
      "name": "Curso_Basico_Python3.ipynb",
      "provenance": []
    },
    "kernelspec": {
      "name": "python3",
      "display_name": "Python 3"
    },
    "language_info": {
      "name": "python"
    }
  },
  "cells": [
    {
      "cell_type": "markdown",
      "metadata": {
        "id": "02WW3GLoKg46"
      },
      "source": [
        "# Curso Básico Python 3\n",
        "\n",
        "Estrutura do curso \n",
        "\n",
        "* [Python](https://www.python.org/)\n",
        "* [pip](https://pypi.org/project/pip/)\n",
        "* [venv](https://docs.python.org/3/library/venv.html) \n",
        "* [PEP20](https://www.python.org/dev/peps/pep-0020/) \n",
        "* [PEP8](https://www.python.org/dev/peps/pep-0008/) \n",
        "* [Operadores Lógicos e Aritméticos](https://docs.python.org/pt-br/3/tutorial/introduction.html)\n",
        "* [\"More control flow tools\"](https://docs.python.org/pt-br/3/tutorial/controlflow.html) \n",
        "* [Listas, Dicionários, Sets e Tuplas](https://docs.python.org/pt-br/3/tutorial/datastructures.html)\n",
        "* [Módulos e Pacotes](https://docs.python.org/pt-br/3/tutorial/modules.html)\n",
        "  "
      ]
    },
    {
      "cell_type": "markdown",
      "metadata": {
        "id": "SVf-ekMmQBv_"
      },
      "source": [
        "## Python\n"
      ]
    },
    {
      "cell_type": "markdown",
      "metadata": {
        "id": "m_5e-3wOQaMy"
      },
      "source": [
        "A linguagem Python foi criada em 1989 por Guido van Rossum ou mais conhecido pela comunidade como BDFL (\"Benevolent dictator for life\"), e carrega o nome Python em homenagem ao grupo Monty Python's. Ponto de discussões calorosas python é uma linguagem interpretada (as discussões ficam a cargo do desempenho e escalabilidades dos projetos, assim como em qualquer disputa compilador x interpretador).\n",
        "\n",
        "Atualmente Python se encontra na versão 3.9 (por curiosidade é possível que nunca venha a existir um Python 4, uma vez que a imcompatibilidade da versão 2 com a 3 não agradou a comunidade, caso queira ler sobre [aqui](https://www.themaintained.com/home/python-4-0-might-never-arrive-according/)). \n",
        "\n",
        "Vamos a instalação. O site oficial da linguagem [python.org](https://www.python.org) é o começo de tudo, nele podemos encontrar as versões mais atuais e algumas mais antigas da linguagem além de toda a documentação e alguns eventos oficias da comunidade e outros comunicados.\n",
        "\n",
        "Para cobrir o maior número de Sistemas Operacionais (S.O.) vou compartilhar o tutorial do real python que pode ser encontrado nesse [link](https://realpython.com/installing-python/), mas você também pode seguir a documentação do site oficial caso queira. \n",
        "\n",
        "Existem pequenas diferenças entre as versões que podem fazer com que um exemplo não funcione em sua máquina, vejamos a versão deste notebook (falarei sobre notebooks mais adiante)\n"
      ]
    },
    {
      "cell_type": "code",
      "metadata": {
        "colab": {
          "base_uri": "https://localhost:8080/"
        },
        "id": "5alMDJb9QgTn",
        "outputId": "100d0406-e392-4288-d17f-966b0cbf565c"
      },
      "source": [
        "!python --version "
      ],
      "execution_count": null,
      "outputs": [
        {
          "output_type": "stream",
          "text": [
            "Python 3.7.10\n"
          ],
          "name": "stdout"
        }
      ]
    },
    {
      "cell_type": "markdown",
      "metadata": {
        "id": "x1iQvsOQZGKQ"
      },
      "source": [
        "*Caso não funcione tente com \"python3\" no lugar de \"python\". E ao executar esse comando na sua máquina a exclamação não é necessária. "
      ]
    },
    {
      "cell_type": "markdown",
      "metadata": {
        "id": "1sdIkemVZkBJ"
      },
      "source": [
        "Assim como na instalação a execução dos programas vão ser feitas de maneiras diferentes a depender do editor de texto ou IDE e ainda do sistemas operacional, portanto recomendo que veja qual ferramenta mais te agrada e como utiliza-lá.\n",
        "\n",
        "Minhas recomendações\n",
        "\n",
        "* [PyCharm](https://www.jetbrains.com/pycharm/), IDE para Python desenvolvida pela Jetbrains (versão premium e/ou free) possui diversas ferramentas integradas que podem ser úteis;\n",
        "* [Atom](https://atom.io/), não tem nada de especial mas eu gosto;\n",
        "* [VSCode](https://code.visualstudio.com/), editor de texto com diversos plug-ins e com ótimo suporte."
      ]
    },
    {
      "cell_type": "markdown",
      "metadata": {
        "id": "ZTSXY577blSl"
      },
      "source": [
        "Para encerrar essa seção vou falar sobre o IPython Notebook. Atualmente conhecido como [Jupyter Notebook](https://jupyter.org/) é um ambiente computacional interativo, você pode combinar códigos, textos, gráficos, mídias etc. Inclusive esse documento é feito em um Notebook (nesse caso o Google Colaboratory). É uma ferramenta extremamente útil e fácil de utilizar, recomendo também a instalação mas para os propósitos desse curso só o python basta.\n",
        "\n"
      ]
    },
    {
      "cell_type": "markdown",
      "metadata": {
        "id": "030m9I_mQEJM"
      },
      "source": [
        "## Pip"
      ]
    },
    {
      "cell_type": "markdown",
      "metadata": {
        "id": "uNjiEGpZQbZ3"
      },
      "source": [
        "Você ja instalou o Python, mas quer mais, você viu uma biblioteca de Machine Learning incrível ou um framework WEB e quer usar, como então?\n",
        "\n",
        "É ai que entra o pip, ou package installer for python. A maioria das bibliotecas do python pode ser encontrada e instalada utilizando essa ferramenta. Caso você esteja utilizando uma versão de python >=3.4 o pip já deve estar instalado caso não basta utilizar o comando \n",
        "\n",
        "```\n",
        "curl https://bootstrap.pypa.io/get-pip.py -o get-pip.py\n",
        "```\n",
        "e depois:\n",
        "\n",
        "```\n",
        "python getp-pip.py\n",
        "```\n",
        "\n",
        "Com o pip instalado na máquina bastá utiliza-lo. De forma geral o comando é:\n",
        "\n",
        "```\n",
        "pip install nomebiblioteca\n",
        "```\n",
        "mas recomendo sempre que de uma olhada na documentação ou um tutorial de instalação.\n",
        "\n",
        "Além de instalar pacotes o pip pode ser utilizado para criar o arquivo requirements de um pacote (responsável por informar e baixar as bibliotecas que são utilizadas em um projeto). Isso vai ser útil no nosso último módulo desse curso, mas por enquanto a essa é a [documentação](https://pypi.org/project/pip/) do pip.\n",
        "\n",
        "Existe ainda o [Poetry](https://python-poetry.org/) com a mesma funcionalidade, veja o que mais te agrada.\n"
      ]
    },
    {
      "cell_type": "code",
      "metadata": {
        "colab": {
          "base_uri": "https://localhost:8080/"
        },
        "id": "skGRz0Bqio9K",
        "outputId": "48170ab4-afef-4da4-8151-a020f600611b"
      },
      "source": [
        "pip install matplotlib"
      ],
      "execution_count": null,
      "outputs": [
        {
          "output_type": "stream",
          "text": [
            "Requirement already satisfied: matplotlib in /usr/local/lib/python3.7/dist-packages (3.2.2)\n",
            "Requirement already satisfied: python-dateutil>=2.1 in /usr/local/lib/python3.7/dist-packages (from matplotlib) (2.8.1)\n",
            "Requirement already satisfied: pyparsing!=2.0.4,!=2.1.2,!=2.1.6,>=2.0.1 in /usr/local/lib/python3.7/dist-packages (from matplotlib) (2.4.7)\n",
            "Requirement already satisfied: kiwisolver>=1.0.1 in /usr/local/lib/python3.7/dist-packages (from matplotlib) (1.3.1)\n",
            "Requirement already satisfied: cycler>=0.10 in /usr/local/lib/python3.7/dist-packages (from matplotlib) (0.10.0)\n",
            "Requirement already satisfied: numpy>=1.11 in /usr/local/lib/python3.7/dist-packages (from matplotlib) (1.19.5)\n",
            "Requirement already satisfied: six>=1.5 in /usr/local/lib/python3.7/dist-packages (from python-dateutil>=2.1->matplotlib) (1.15.0)\n"
          ],
          "name": "stdout"
        }
      ]
    },
    {
      "cell_type": "markdown",
      "metadata": {
        "id": "w50Lw3jYQGD-"
      },
      "source": [
        "## Virtual Enviroment, vulgo venv"
      ]
    },
    {
      "cell_type": "markdown",
      "metadata": {
        "id": "CYCFpDdlQear"
      },
      "source": [
        "Segundo a documentação oficial do python sobre ambientes virtuais \"o módulo venv fornece suporte para a criação de 'ambientes virtuais' leves com seus próprios diretórios de site, opcionalmente isolados dos diretórios de site do sistema. Cada ambiente virtual possui seu próprio binário Python (que corresponde à versão do binário usado para criar esse ambiente) e pode ter seu próprio conjunto independente de pacotes Python instalados nos diretórios do site.\""
      ]
    },
    {
      "cell_type": "markdown",
      "metadata": {
        "id": "sKtHrSqtx9De"
      },
      "source": [
        "Na versões 3.5 ou maiores do python o comando utilizado para criar uma venv é:\n",
        "\n",
        "```\n",
        "python3 -m venv /caminho/para/novo/diretorio\n",
        "```\n",
        "\n",
        "Com o ambiente criado é necessário ativá-lo com o seguinte comando:\n",
        "\n",
        "```\n",
        ". ./caminho/para/novo/diretorio/bin/activate\n",
        "```\n",
        "\n",
        "Ao ativar no nome da pasta/diretorio em que o ambiente foi criar aparecerá antes do seu nome de usuário, para desativar basta executar o comando \"deactivate\""
      ]
    },
    {
      "cell_type": "markdown",
      "metadata": {
        "id": "VMkKZEhAzj8n"
      },
      "source": [
        "Não se preocupe se não está claro, ou se tiver problemas para executar os comandos agora, essas ferramentas serão úteis caso deseje se aprimorar no estudo da linguagem e desenvolver diversos projetos."
      ]
    },
    {
      "cell_type": "markdown",
      "metadata": {
        "id": "5M5F_RURQQpK"
      },
      "source": [
        "## PEP20"
      ]
    },
    {
      "cell_type": "markdown",
      "metadata": {
        "id": "kXMjmWX0smHA"
      },
      "source": [
        "Antes de começar a falar sobre a PEP20, precisamos saber o que é uma PEP.\n",
        "\n",
        "PEP é o acronimo para Python Enhancement Proposal, ou Proposta de aprimoramento Python. É um meio de facilitar o processo de desenvolvimento do Python afinal o BDFL/van Rossum precisa de um meio para avaliar propostas de melhoria e dar manutenção ao projeto.\n",
        "\n",
        "\n",
        "Vamos a PEP20 então, quando falamos de um código pythonico estamos nos referindo a uma filosofia de como escrever códigos em python (o próximo tópico PEP8 nos diz como formatar o código sintáticamente). Podemos resumir em 5 itens:"
      ]
    },
    {
      "cell_type": "markdown",
      "metadata": {
        "id": "CPeLxcsj2_-P"
      },
      "source": [
        "• Limpo\n",
        "\n",
        "• Simples\n",
        "\n",
        "• Bonito \n",
        "\n",
        "• Explicito\n",
        "\n",
        "• Legível\n",
        "\n",
        "Um Easter egg da linguagem nos permite ler um pouco mais sobre, vejamos:"
      ]
    },
    {
      "cell_type": "code",
      "metadata": {
        "id": "54rlvUAyQfJk",
        "colab": {
          "base_uri": "https://localhost:8080/"
        },
        "outputId": "57e1778e-d19d-4caa-d305-595415ed8cb7"
      },
      "source": [
        "import this"
      ],
      "execution_count": null,
      "outputs": [
        {
          "output_type": "stream",
          "text": [
            "The Zen of Python, by Tim Peters\n",
            "\n",
            "Beautiful is better than ugly.\n",
            "Explicit is better than implicit.\n",
            "Simple is better than complex.\n",
            "Complex is better than complicated.\n",
            "Flat is better than nested.\n",
            "Sparse is better than dense.\n",
            "Readability counts.\n",
            "Special cases aren't special enough to break the rules.\n",
            "Although practicality beats purity.\n",
            "Errors should never pass silently.\n",
            "Unless explicitly silenced.\n",
            "In the face of ambiguity, refuse the temptation to guess.\n",
            "There should be one-- and preferably only one --obvious way to do it.\n",
            "Although that way may not be obvious at first unless you're Dutch.\n",
            "Now is better than never.\n",
            "Although never is often better than *right* now.\n",
            "If the implementation is hard to explain, it's a bad idea.\n",
            "If the implementation is easy to explain, it may be a good idea.\n",
            "Namespaces are one honking great idea -- let's do more of those!\n"
          ],
          "name": "stdout"
        }
      ]
    },
    {
      "cell_type": "markdown",
      "metadata": {
        "id": "ssEt0oy12ffE"
      },
      "source": [
        "### O Zen Python\n",
        "\n"
      ]
    },
    {
      "cell_type": "markdown",
      "metadata": {
        "id": "wzDX24cZ2k-s"
      },
      "source": [
        "```\n",
        "    Bonito é melhor que feio.\n",
        "    Explícito é melhor que implícito.\n",
        "    Simples é melhor que complexo.\n",
        "    Complexo é melhor que complicado.\n",
        "    Linear é melhor do que aninhado.\n",
        "    Esparso é melhor que denso.\n",
        "    Legibilidade conta.\n",
        "    Casos especiais não são especiais o bastante para quebrar as regras.\n",
        "    Ainda que praticidade vença a pureza.\n",
        "    Erros nunca devem passar silenciosamente.\n",
        "    A menos que sejam explicitamente silenciados.\n",
        "    Diante da ambiguidade, recuse a tentação de adivinhar.\n",
        "    Deveria haver um — e preferencialmente só um — modo óbvio para fazer algo.\n",
        "    Embora esse modo possa não ser óbvio a princípio a menos que você seja holandês.\n",
        "    Agora é melhor que nunca.\n",
        "    Embora nunca frequentemente seja melhor que já.\n",
        "    Se a implementação é difícil de explicar, é uma má ideia.\n",
        "    Se a implementação é fácil de explicar, pode ser uma boa ideia.\n",
        "    Namespaces são uma grande ideia — vamos ter mais dessas!\n",
        "```\n"
      ]
    },
    {
      "cell_type": "markdown",
      "metadata": {
        "id": "BjZnZgTs42XZ"
      },
      "source": [
        "Há ditados por ai que dizem que passamos mais tempo lendo códigos do que de fato escrevendo, por isso é importante que seu código siga essas orientações, mas não se prenda a todos os itens, afinal é melhor ter um código do que nenhum."
      ]
    },
    {
      "cell_type": "markdown",
      "metadata": {
        "id": "YscIci6bQTgx"
      },
      "source": [
        "## PEP8"
      ]
    },
    {
      "cell_type": "markdown",
      "metadata": {
        "id": "wOC4K0u4Qc87"
      },
      "source": [
        "Pode até parecer bobagem mas imagine um trabalho em grupo escrito a mão, onde cada membro do grupo escreveu uma página, algumas partes desse trabalho vão ser mais fáceis de ler, seja porque as palavras são mais simples ou porque a letra é mais legível, enquanto outras em outras partes o autor não saiba quando usar vírgula e ponto final (okay, eu não julgo e vocês entendem o porque). Concordamos então que é importante manter um mesmo estilo de escrita durante o trabalho todo certo?\n",
        "\n",
        "Com código ocorre o mesmo e no Python quem define como será essa padrão é a PEP8 (na sua empresa, no seu projeto ou em outra linguagem podem ser escolhidos outros padrões mas o importante é que o grupo siga). Existem muitos pontos a serem cobertos de fato, mas como o objetivo aqui é dar uma introdução, vamos aos padrões que considero mais importante por hora e depois você pode se aprofundar."
      ]
    },
    {
      "cell_type": "markdown",
      "metadata": {
        "id": "nyHTmaecx0Rq"
      },
      "source": [
        "Identação: \n",
        "\n",
        "Em python o identação é extremamente importante uma vez que é ela quem organiza a hierarquia do código (diferente do C onde um comando é delimitado por \"{ }\").\n",
        "A identação em python é feita usando 4 espaços (você pode configurar seu editor de texto para isso caso prefira)."
      ]
    },
    {
      "cell_type": "code",
      "metadata": {
        "id": "r0m6NAPRQU7F"
      },
      "source": [
        "# YES\n",
        "# Aligned with opening delimiter.\n",
        "foo = long_function_name(var_one, var_two,\n",
        "                         var_three, var_four)\n",
        "\n",
        "# More indentation included to distinguish this from the rest.\n",
        "def long_function_name(\n",
        "        var_one, var_two, var_three,\n",
        "        var_four):\n",
        "    print(var_one)\n",
        "        \n",
        "\n",
        "# Hanging indents should add a level.\n",
        "foo = long_function_name(\n",
        "    var_one, var_two,\n",
        "    var_three, var_four)"
      ],
      "execution_count": null,
      "outputs": []
    },
    {
      "cell_type": "code",
      "metadata": {
        "id": "DOGraP5Oy4iy"
      },
      "source": [
        "# NO\n",
        "# Arguments on first line forbidden when not using vertical alignment.\n",
        "foo = long_function_name(var_one, var_two,\n",
        "    var_three, var_four)\n",
        "\n",
        "# Further indentation required as indentation is not distinguishable.\n",
        "def long_function_name(\n",
        "    var_one, var_two, var_three,\n",
        "    var_four):\n",
        "    print(var_one)"
      ],
      "execution_count": null,
      "outputs": []
    },
    {
      "cell_type": "markdown",
      "metadata": {
        "id": "QyOHqaLhzKIc"
      },
      "source": [
        "* **Limite máximo da linha:** Esse item em especial pode ser reavaliado, mas recomendo que siga, a algum tempo atrás as telas eram menores e portanto hávia uma limitação máxima de caracteres possíveis de serem visualizados, no caso o número era **79**, tente não passar disso, quebre a linha caso necessário."
      ]
    },
    {
      "cell_type": "markdown",
      "metadata": {
        "id": "Xv4RDsRozmXc"
      },
      "source": [
        "Bom se precisar quebrar a linha em um local com operador aritmético, como faço?"
      ]
    },
    {
      "cell_type": "code",
      "metadata": {
        "id": "bn207fIlzJVr"
      },
      "source": [
        "# Yes: easy to match operators with operands\n",
        "income = (gross_wages\n",
        "          + taxable_interest\n",
        "          + (dividends - qualified_dividends\n",
        "          - ira_deduction\n",
        "          - student_loan_interest)"
      ],
      "execution_count": null,
      "outputs": []
    },
    {
      "cell_type": "markdown",
      "metadata": {
        "id": "gUAl-gA7z9Nf"
      },
      "source": [
        " **Sobre linhas em branco:** Para funções de nível superior e definições de classe use duas linhas em branco. Já para a definição de método em uma classe, só uma basta. Linhas em branco extras podem ser usadas (com moderação) para separar grupos de funções relacionadas. Linhas em branco podem ser omitidas entre um monte de linhas simples relacionadas (por exemplo, um conjunto de implementações fictícias). Use linhas em branco nas funções, com moderação, para indicar seções lógicas. Vejamos:"
      ]
    },
    {
      "cell_type": "code",
      "metadata": {
        "id": "7kBADKlf04Iz"
      },
      "source": [
        "class NomeClasse:\n",
        "\n",
        "\n",
        "  def __init__(self):\n",
        "    pass\n",
        "\n",
        "  def getNome():\n",
        "    if self.nome == 'Joãozinho':\n",
        "      pass\n",
        "    else:\n",
        "      pass\n",
        "\n",
        "    self.nome = \"Mudando o nome\"\n",
        "\n",
        "    return"
      ],
      "execution_count": null,
      "outputs": []
    },
    {
      "cell_type": "markdown",
      "metadata": {
        "id": "LdGaYgnS1n9R"
      },
      "source": [
        "Show, mas eu quero usar as bibliotecas que eu baixei, tem padrão pra isso?\n",
        "\n",
        "Tem e é esse aqui:"
      ]
    },
    {
      "cell_type": "code",
      "metadata": {
        "id": "FnrvPo8A1nxc"
      },
      "source": [
        "import os\n",
        "import sys\n",
        "from pandas import read_csv, read_excel"
      ],
      "execution_count": null,
      "outputs": []
    },
    {
      "cell_type": "markdown",
      "metadata": {
        "id": "v0KuWkJ72BDf"
      },
      "source": [
        "Agora por favor, não faça:"
      ]
    },
    {
      "cell_type": "code",
      "metadata": {
        "id": "4oEk2gUi2D0D"
      },
      "source": [
        "import os, sys"
      ],
      "execution_count": null,
      "outputs": []
    },
    {
      "cell_type": "markdown",
      "metadata": {
        "id": "wHeTXLqv2SSW"
      },
      "source": [
        "Os mais atentos devem ter notado que quando falei em linhas em branco fiz os seguites comandos \n",
        "\n",
        "```\n",
        "if self.nome == 'Joãozinho':\n",
        "```\n",
        "E logo depois\n",
        "```\n",
        "self.nome = \"Mudando o nome\"\n",
        "```\n",
        "\n",
        "O python permite que você utilize tanto aspas simples como duplas e não determina qual você deve usar, mas é recomendável que escolha uma e utilize durante todo o seu código."
      ]
    },
    {
      "cell_type": "markdown",
      "metadata": {
        "id": "Y2RhkI4b3mHI"
      },
      "source": [
        "Sobre comentários há uma pequena seção, para não estender já que esse pode ser um ponto mais delicado (até mesmo sobre quando é necessário de fato usar comentário), veja [aqui](https://pep8.org/#comments)."
      ]
    },
    {
      "cell_type": "markdown",
      "metadata": {
        "id": "cqJXIKeF4Ub3"
      },
      "source": [
        "Ok, chegamos ao último ponto que escolhi falar. \n",
        "\n",
        "**Convenção de nomes**\n",
        "\n",
        "1º nunca use \"O\", \"L\", \"l\" ou \"i\" como nome de variável, essas letras podem ser confundidas com 0 ou 1 a depender da fonte do editor e uma espressão como  O = 2 pode ser confusa.\n",
        "\n",
        "Dito isso vamos ao restante"
      ]
    },
    {
      "cell_type": "code",
      "metadata": {
        "id": "q6I7AP5X6TL5"
      },
      "source": [
        "def function():\n",
        "    pass\n",
        "\n",
        "def my_function():\n",
        "    pass\n",
        "\n",
        "nome = \"Joãozinho\"\n",
        "nome_completo = \"Joãozinho Júnior\"\n",
        "\n",
        "ACELERACAO_GRAVIDADE = 9.80\n",
        "\n",
        "class Classe1():\n",
        "\n",
        "\n",
        "class MinhaClasse():\n",
        "\n",
        "\n",
        "my_module.py\n",
        "mypackage"
      ],
      "execution_count": null,
      "outputs": []
    },
    {
      "cell_type": "markdown",
      "metadata": {
        "id": "Fmrqz-aJ7AFt"
      },
      "source": [
        "Como é possível ver o assunto é longo e ainda tem exceções, então vá com calma aprenda uma regra por vez e pratique, padrão de código é sobre consistência.\n",
        "\n",
        "E para ajudar você pode usar alguma ferramenta como o Pylint, flake8, Pep8 pyflakes e outros, que checam a qualidade do código escrito (estamos falando só de sintaxe, a lógica ficar por sua conta) veja o que mais te agrada e o que você tem mais facilidade em usar."
      ]
    },
    {
      "cell_type": "markdown",
      "metadata": {
        "id": "HFHDlF63QWeQ"
      },
      "source": [
        "## Operadores Lógicos e Aritméticos "
      ]
    },
    {
      "cell_type": "markdown",
      "metadata": {
        "id": "D02BA87UQdgS"
      },
      "source": [
        "Ok vamos ao código, vou deixar os exemplos falarem por si:"
      ]
    },
    {
      "cell_type": "code",
      "metadata": {
        "id": "j9Cgc5KbQdsU",
        "colab": {
          "base_uri": "https://localhost:8080/"
        },
        "outputId": "264a1faf-aac3-4a24-9d56-4ca5023cfd96"
      },
      "source": [
        "primeiro_numero = 10\n",
        "segundo_numero = 3\n",
        "\n",
        "primeiro_numero + segundo_numero"
      ],
      "execution_count": null,
      "outputs": [
        {
          "output_type": "execute_result",
          "data": {
            "text/plain": [
              "13"
            ]
          },
          "metadata": {
            "tags": []
          },
          "execution_count": 7
        }
      ]
    },
    {
      "cell_type": "code",
      "metadata": {
        "id": "5M4mRs8O9Y3s"
      },
      "source": [
        "resultado = primeiro_numero - segundo_numero"
      ],
      "execution_count": null,
      "outputs": []
    },
    {
      "cell_type": "code",
      "metadata": {
        "colab": {
          "base_uri": "https://localhost:8080/",
          "height": 42
        },
        "id": "Q_8uOXYGzCxo",
        "outputId": "3510ae8a-99d3-4767-e416-288df44d9559"
      },
      "source": [
        "resultado"
      ],
      "execution_count": null,
      "outputs": [
        {
          "output_type": "execute_result",
          "data": {
            "application/vnd.google.colaboratory.intrinsic+json": {
              "type": "string"
            },
            "text/plain": [
              "'Nome'"
            ]
          },
          "metadata": {
            "tags": []
          },
          "execution_count": 12
        }
      ]
    },
    {
      "cell_type": "code",
      "metadata": {
        "id": "l4r0_z_LzNcV"
      },
      "source": [
        "resultado = 'Nome'"
      ],
      "execution_count": null,
      "outputs": []
    },
    {
      "cell_type": "code",
      "metadata": {
        "id": "-y48DExX9cv0",
        "colab": {
          "base_uri": "https://localhost:8080/"
        },
        "outputId": "6231af90-aabb-4d48-c56d-073601aaa586"
      },
      "source": [
        "primeiro_numero * segundo_numero"
      ],
      "execution_count": null,
      "outputs": [
        {
          "output_type": "execute_result",
          "data": {
            "text/plain": [
              "30"
            ]
          },
          "metadata": {
            "tags": []
          },
          "execution_count": 12
        }
      ]
    },
    {
      "cell_type": "code",
      "metadata": {
        "id": "DtPxzULC9fJB",
        "colab": {
          "base_uri": "https://localhost:8080/"
        },
        "outputId": "64d983f7-4248-438c-c59e-3afe460f4fa2"
      },
      "source": [
        "divisao = primeiro_numero / segundo_numero\n",
        "\n",
        "divisao = int(divisao)\n",
        "str(), float() list(), dict(), set(), tuples()\n",
        "print(divisao)"
      ],
      "execution_count": null,
      "outputs": [
        {
          "output_type": "stream",
          "text": [
            "3\n"
          ],
          "name": "stdout"
        }
      ]
    },
    {
      "cell_type": "code",
      "metadata": {
        "colab": {
          "base_uri": "https://localhost:8080/"
        },
        "id": "BDwvjwGb1VlN",
        "outputId": "1e33e66b-3051-4d22-b51b-2dc179d673c6"
      },
      "source": [
        "nome = 'nome'\n",
        "numero = '31'\n",
        "print(int(numero))"
      ],
      "execution_count": null,
      "outputs": [
        {
          "output_type": "stream",
          "text": [
            "31\n"
          ],
          "name": "stdout"
        }
      ]
    },
    {
      "cell_type": "markdown",
      "metadata": {
        "id": "8cQarXUw9lWe"
      },
      "source": [
        "Até aqui já conhecemos as operações e os simbolos, alguns casos especiais são a potência e divisão inteira, vejamos:"
      ]
    },
    {
      "cell_type": "code",
      "metadata": {
        "id": "TBh94rvE9xlM",
        "colab": {
          "base_uri": "https://localhost:8080/"
        },
        "outputId": "685f09f7-7403-4901-a3f9-86b995697c04"
      },
      "source": [
        "2** segundo_numero"
      ],
      "execution_count": null,
      "outputs": [
        {
          "output_type": "execute_result",
          "data": {
            "text/plain": [
              "8"
            ]
          },
          "metadata": {
            "tags": []
          },
          "execution_count": 19
        }
      ]
    },
    {
      "cell_type": "code",
      "metadata": {
        "id": "20ZSEvdV91xH",
        "colab": {
          "base_uri": "https://localhost:8080/"
        },
        "outputId": "7802c8e2-767b-453e-ede0-d521311a8e59"
      },
      "source": [
        "primeiro_numero // segundo_numero"
      ],
      "execution_count": null,
      "outputs": [
        {
          "output_type": "execute_result",
          "data": {
            "text/plain": [
              "3"
            ]
          },
          "metadata": {
            "tags": []
          },
          "execution_count": 16
        }
      ]
    },
    {
      "cell_type": "code",
      "metadata": {
        "colab": {
          "base_uri": "https://localhost:8080/"
        },
        "id": "ipMNTOZA0d2r",
        "outputId": "20ac3e40-cbbd-4f09-9ced-07d00d922ec1"
      },
      "source": [
        "primeiro_numero % segundo_numero"
      ],
      "execution_count": null,
      "outputs": [
        {
          "output_type": "execute_result",
          "data": {
            "text/plain": [
              "1"
            ]
          },
          "metadata": {
            "tags": []
          },
          "execution_count": 17
        }
      ]
    },
    {
      "cell_type": "markdown",
      "metadata": {
        "id": "ygrFDg2-97ac"
      },
      "source": [
        "Existem outros meios de fazer essas operações como por exemplo a função pow, ou o typecast int().\n",
        "\n",
        "Podemos ainda utilizar parenteses para separar as expressões matemáticas:\n"
      ]
    },
    {
      "cell_type": "code",
      "metadata": {
        "id": "StIhNyrx96iL",
        "colab": {
          "base_uri": "https://localhost:8080/"
        },
        "outputId": "1631040b-6984-43f5-90cb-8177d2a16080"
      },
      "source": [
        "((50 - 5) * 6) / 4"
      ],
      "execution_count": null,
      "outputs": [
        {
          "output_type": "execute_result",
          "data": {
            "text/plain": [
              "67.5"
            ]
          },
          "metadata": {
            "tags": []
          },
          "execution_count": 21
        }
      ]
    },
    {
      "cell_type": "code",
      "metadata": {
        "colab": {
          "base_uri": "https://localhost:8080/"
        },
        "id": "tBIGeervVUUk",
        "outputId": "95b3d202-c25a-4664-b74a-f9f0ac167666"
      },
      "source": [
        "primeiro_numero > segundo_numero"
      ],
      "execution_count": null,
      "outputs": [
        {
          "output_type": "execute_result",
          "data": {
            "text/plain": [
              "True"
            ]
          },
          "metadata": {
            "tags": []
          },
          "execution_count": 24
        }
      ]
    },
    {
      "cell_type": "code",
      "metadata": {
        "colab": {
          "base_uri": "https://localhost:8080/"
        },
        "id": "xMUFhiD_XPEV",
        "outputId": "e4a05b95-859b-4676-f654-7ad6a4061bd1"
      },
      "source": [
        "primeiro_numero < segundo_numero"
      ],
      "execution_count": null,
      "outputs": [
        {
          "output_type": "execute_result",
          "data": {
            "text/plain": [
              "False"
            ]
          },
          "metadata": {
            "tags": []
          },
          "execution_count": 25
        }
      ]
    },
    {
      "cell_type": "code",
      "metadata": {
        "colab": {
          "base_uri": "https://localhost:8080/"
        },
        "id": "1m-xuyH4XTpw",
        "outputId": "b2d830d2-67d5-47ef-b138-14b8c60cb2cb"
      },
      "source": [
        "primeiro_numero == segundo_numero"
      ],
      "execution_count": null,
      "outputs": [
        {
          "output_type": "execute_result",
          "data": {
            "text/plain": [
              "False"
            ]
          },
          "metadata": {
            "tags": []
          },
          "execution_count": 26
        }
      ]
    },
    {
      "cell_type": "code",
      "metadata": {
        "colab": {
          "base_uri": "https://localhost:8080/"
        },
        "id": "_Zrl3ZDaXZwZ",
        "outputId": "6be35a1b-5d32-461b-e415-82451104240d"
      },
      "source": [
        "5 == 2"
      ],
      "execution_count": null,
      "outputs": [
        {
          "output_type": "execute_result",
          "data": {
            "text/plain": [
              "False"
            ]
          },
          "metadata": {
            "tags": []
          },
          "execution_count": 27
        }
      ]
    },
    {
      "cell_type": "code",
      "metadata": {
        "colab": {
          "base_uri": "https://localhost:8080/"
        },
        "id": "9vc0ttDn20Kd",
        "outputId": "160a29bb-12b5-402e-c423-ee076d153367"
      },
      "source": [
        "def desloca(numero, numero_dois):\n",
        "    print(bin(numero and numero_dois))\n",
        "\n",
        "numero = 1\n",
        "desloca(numero, 2)"
      ],
      "execution_count": null,
      "outputs": [
        {
          "output_type": "stream",
          "text": [
            "0b10\n"
          ],
          "name": "stdout"
        }
      ]
    },
    {
      "cell_type": "markdown",
      "metadata": {
        "id": "jhdAPFGd_LkY"
      },
      "source": [
        "Em python ainda podemos fazer operações básicas com números complexos nativamente (a documentação oficial nesse [link](https://docs.python.org/pt-br/3/library/functions.html#complex)).\n",
        "\n",
        "Show mas e se usarmos uma string?\n",
        "\n",
        "Aqui de fato as possibilidades aumentam. Por exemplo:"
      ]
    },
    {
      "cell_type": "code",
      "metadata": {
        "id": "uC5Lg4xa_iT6",
        "colab": {
          "base_uri": "https://localhost:8080/"
        },
        "outputId": "288ddff2-a1ed-4ea1-bb7c-4f617e257188"
      },
      "source": [
        "nome = 'Vitor'\n",
        "sobrenome = 'Oliveira'\n",
        "\n",
        "nome_completo = nome + ' ' + sobrenome\n",
        "print(nome_completo)"
      ],
      "execution_count": null,
      "outputs": [
        {
          "output_type": "stream",
          "text": [
            "Vitor Oliveira\n"
          ],
          "name": "stdout"
        }
      ]
    },
    {
      "cell_type": "code",
      "metadata": {
        "id": "K5CD6571ADE4",
        "colab": {
          "base_uri": "https://localhost:8080/",
          "height": 42
        },
        "outputId": "d7c245e9-7bf4-4719-ba27-38f9e16557f8"
      },
      "source": [
        "nome*2"
      ],
      "execution_count": null,
      "outputs": [
        {
          "output_type": "execute_result",
          "data": {
            "application/vnd.google.colaboratory.intrinsic+json": {
              "type": "string"
            },
            "text/plain": [
              "'VitorVitor'"
            ]
          },
          "metadata": {
            "tags": []
          },
          "execution_count": 34
        }
      ]
    },
    {
      "cell_type": "markdown",
      "metadata": {
        "id": "hG6Hkl6lAqDW"
      },
      "source": [
        "Pra confundir um pouco, vamos falar sobre slicing. String em python funcionam como um vetor, então o que acontece se eu executar esse código:"
      ]
    },
    {
      "cell_type": "code",
      "metadata": {
        "id": "bX-bXqrOAy-T",
        "colab": {
          "base_uri": "https://localhost:8080/",
          "height": 42
        },
        "outputId": "c82e2852-e9ca-408b-e762-28e4da3e823e"
      },
      "source": [
        "sobrenome[:3] + sobrenome[3:]"
      ],
      "execution_count": null,
      "outputs": [
        {
          "output_type": "execute_result",
          "data": {
            "application/vnd.google.colaboratory.intrinsic+json": {
              "type": "string"
            },
            "text/plain": [
              "'Oliveira'"
            ]
          },
          "metadata": {
            "tags": []
          },
          "execution_count": 37
        }
      ]
    },
    {
      "cell_type": "code",
      "metadata": {
        "id": "fuOsjdfkBG6q",
        "colab": {
          "base_uri": "https://localhost:8080/",
          "height": 42
        },
        "outputId": "1ba6d8d3-84d9-4e08-904e-831265d85818"
      },
      "source": [
        "sobrenome[:3]"
      ],
      "execution_count": null,
      "outputs": [
        {
          "output_type": "execute_result",
          "data": {
            "application/vnd.google.colaboratory.intrinsic+json": {
              "type": "string"
            },
            "text/plain": [
              "'Oli'"
            ]
          },
          "metadata": {
            "tags": []
          },
          "execution_count": 35
        }
      ]
    },
    {
      "cell_type": "code",
      "metadata": {
        "id": "orVr6W0XBJfz",
        "colab": {
          "base_uri": "https://localhost:8080/",
          "height": 42
        },
        "outputId": "9c7960f5-8837-4803-f51b-c2a006c4048e"
      },
      "source": [
        "sobrenome[3:]"
      ],
      "execution_count": null,
      "outputs": [
        {
          "output_type": "execute_result",
          "data": {
            "application/vnd.google.colaboratory.intrinsic+json": {
              "type": "string"
            },
            "text/plain": [
              "'veira'"
            ]
          },
          "metadata": {
            "tags": []
          },
          "execution_count": 36
        }
      ]
    },
    {
      "cell_type": "code",
      "metadata": {
        "id": "6d2BaGqeBL8o",
        "colab": {
          "base_uri": "https://localhost:8080/",
          "height": 42
        },
        "outputId": "368b5dde-6e28-4c13-c7f9-0d9716d56706"
      },
      "source": [
        "sobrenome[9:0:-1]"
      ],
      "execution_count": null,
      "outputs": [
        {
          "output_type": "execute_result",
          "data": {
            "application/vnd.google.colaboratory.intrinsic+json": {
              "type": "string"
            },
            "text/plain": [
              "'arievil'"
            ]
          },
          "metadata": {
            "tags": []
          },
          "execution_count": 46
        }
      ]
    },
    {
      "cell_type": "markdown",
      "metadata": {
        "id": "wfG8zaXMBY2C"
      },
      "source": [
        "Mas se quiser mudar uma letra no meio de uma palavra eu lamento você não pode, use uma nova string."
      ]
    },
    {
      "cell_type": "code",
      "metadata": {
        "id": "Y2xlf2y-BW5C"
      },
      "source": [
        "texto = 'Python'\n",
        "\n",
        "#Errado\n",
        "#texto[0] = 'J'\n",
        "\n",
        "texto_correto = 'J'+texto[1:]\n",
        "\n",
        "print(texto_correto)"
      ],
      "execution_count": null,
      "outputs": []
    },
    {
      "cell_type": "markdown",
      "metadata": {
        "id": "k_xoNnkTVc_U"
      },
      "source": [
        "Existem mais funções com string que facilitam de mais o trabalho desse tipo de variável em python, vou mostrar algumas e depois se quiser \"busquem conhecimento\".\n"
      ]
    },
    {
      "cell_type": "code",
      "metadata": {
        "colab": {
          "base_uri": "https://localhost:8080/"
        },
        "id": "VQu5XNwJVvUd",
        "outputId": "60024d37-374a-4f5f-a551-5ade24e9439d"
      },
      "source": [
        "texto.isdigit()"
      ],
      "execution_count": null,
      "outputs": [
        {
          "output_type": "execute_result",
          "data": {
            "text/plain": [
              "False"
            ]
          },
          "metadata": {
            "tags": []
          },
          "execution_count": 7
        }
      ]
    },
    {
      "cell_type": "code",
      "metadata": {
        "colab": {
          "base_uri": "https://localhost:8080/"
        },
        "id": "RT7QGBx1V1Ay",
        "outputId": "d78d7221-1b7c-4fab-b75b-f37152a59f4d"
      },
      "source": [
        "meu_telefone = '38289123'\n",
        "meu_telefone.isdigit()"
      ],
      "execution_count": null,
      "outputs": [
        {
          "output_type": "execute_result",
          "data": {
            "text/plain": [
              "True"
            ]
          },
          "metadata": {
            "tags": []
          },
          "execution_count": 49
        }
      ]
    },
    {
      "cell_type": "code",
      "metadata": {
        "colab": {
          "base_uri": "https://localhost:8080/",
          "height": 42
        },
        "id": "wa_tfIneWhlg",
        "outputId": "6d68619c-f889-41d2-e745-9d5ebfc696e7"
      },
      "source": [
        "#texto.islower()\n",
        "texto = 'nome/diretorio/barra'\n",
        "meu_telefone = meu_telefone.replace('3','1')\n",
        "meu_telefone"
      ],
      "execution_count": null,
      "outputs": [
        {
          "output_type": "execute_result",
          "data": {
            "application/vnd.google.colaboratory.intrinsic+json": {
              "type": "string"
            },
            "text/plain": [
              "'18289121'"
            ]
          },
          "metadata": {
            "tags": []
          },
          "execution_count": 51
        }
      ]
    },
    {
      "cell_type": "markdown",
      "metadata": {
        "id": "IneuwbVyVVua"
      },
      "source": [
        "Até aqui falamos um pouco sobre operadores aritméticos e funções de string, vamos ver operadores lógicos agora, voltemos as variáveis iniciais (primero_numero e segundo_numero)"
      ]
    },
    {
      "cell_type": "code",
      "metadata": {
        "colab": {
          "base_uri": "https://localhost:8080/"
        },
        "id": "UWFAo5Q1Xp-E",
        "outputId": "71e1271f-a3f5-435b-fcc1-bef776625d04"
      },
      "source": [
        "primeiro_numero == 5 or primeiro_numero > segundo_numero "
      ],
      "execution_count": null,
      "outputs": [
        {
          "output_type": "execute_result",
          "data": {
            "text/plain": [
              "True"
            ]
          },
          "metadata": {
            "tags": []
          },
          "execution_count": 28
        }
      ]
    },
    {
      "cell_type": "code",
      "metadata": {
        "colab": {
          "base_uri": "https://localhost:8080/"
        },
        "id": "e0ORXc0VfkCc",
        "outputId": "8677099c-0889-4fa2-c677-240f638c84a8"
      },
      "source": [
        "not(primeiro_numero == 5 or primeiro_numero > segundo_numero)"
      ],
      "execution_count": null,
      "outputs": [
        {
          "output_type": "execute_result",
          "data": {
            "text/plain": [
              "False"
            ]
          },
          "metadata": {
            "tags": []
          },
          "execution_count": 31
        }
      ]
    },
    {
      "cell_type": "code",
      "metadata": {
        "colab": {
          "base_uri": "https://localhost:8080/"
        },
        "id": "nYRXzk8CfgGl",
        "outputId": "309888f3-9425-4210-c787-56aeaa040335"
      },
      "source": [
        "primeiro_numero == 5 and primeiro_numero > segundo_numero "
      ],
      "execution_count": null,
      "outputs": [
        {
          "output_type": "execute_result",
          "data": {
            "text/plain": [
              "False"
            ]
          },
          "metadata": {
            "tags": []
          },
          "execution_count": 30
        }
      ]
    },
    {
      "cell_type": "markdown",
      "metadata": {
        "id": "U_vjii0LCoR8"
      },
      "source": [
        "Para aquecer vamos a um script bem simples"
      ]
    },
    {
      "cell_type": "code",
      "metadata": {
        "id": "yxqkC1VKCnyb",
        "colab": {
          "base_uri": "https://localhost:8080/"
        },
        "outputId": "8d34f7c8-de52-4855-d859-8566385c86fc"
      },
      "source": [
        "a, b = 0, 1\n",
        "while a < 10:\n",
        "  print(a)\n",
        "  a, b = b, a+b"
      ],
      "execution_count": null,
      "outputs": [
        {
          "output_type": "stream",
          "text": [
            "0\n",
            "1\n",
            "1\n",
            "2\n",
            "3\n",
            "5\n",
            "8\n"
          ],
          "name": "stdout"
        }
      ]
    },
    {
      "cell_type": "markdown",
      "metadata": {
        "id": "dlmVrIyxQqtm"
      },
      "source": [
        "## More Control Flow Tools"
      ]
    },
    {
      "cell_type": "markdown",
      "metadata": {
        "id": "piMlSFb8Q4oY"
      },
      "source": [
        "Controle de fluxo (control flow) podem ser divididas em 2 partes a estrutura de decisão (if, else, elif) e as estruturas de repetição (for, while). É mais comum que vejamos essas estruturas separas mas a documentação oficial do Python trabalha de forma conjunta. O primeiro item a ser trabalhado é o if."
      ]
    },
    {
      "cell_type": "code",
      "metadata": {
        "id": "eU0lPns_Q4xC",
        "colab": {
          "base_uri": "https://localhost:8080/"
        },
        "outputId": "f56a7440-d521-4d42-bdf1-67ac83cd4ade"
      },
      "source": [
        "x = int(input(\"Please enter an integer: \"))\n",
        "if x < 0:\n",
        "    x = 0\n",
        "    print('Negative changed to zero')\n",
        "elif x == 0:\n",
        "    print('Zero')\n",
        "elif x == 1:\n",
        "    print('Single')\n",
        "else:\n",
        "    print('More')"
      ],
      "execution_count": null,
      "outputs": [
        {
          "output_type": "stream",
          "text": [
            "Please enter an integer: 8\n",
            "More\n"
          ],
          "name": "stdout"
        }
      ]
    },
    {
      "cell_type": "markdown",
      "metadata": {
        "id": "EbroTlWp4eMU"
      },
      "source": [
        "De forma bem similar a outras linguagem Se uma condição é verdadeira então um conjunto de açõs vai ser realizada, agora Senão for e se outra condição é verdadeira (elif), então um outro conjunto é executado, mas se nenhuma condição é verdadeira (else) ai fazemos ainda outro conjunto de ação. "
      ]
    },
    {
      "cell_type": "markdown",
      "metadata": {
        "id": "SX94Hsgm48FO"
      },
      "source": [
        "Vamos falar sobre o for então"
      ]
    },
    {
      "cell_type": "code",
      "metadata": {
        "colab": {
          "base_uri": "https://localhost:8080/"
        },
        "id": "UdKQ0KrA47ZY",
        "outputId": "a2f3739c-5057-4832-c37b-c0e31748eebc"
      },
      "source": [
        "words = ['cat', 'window', 'defenestrate']\n",
        "\n",
        "for word in words:\n",
        "    print(word, len(word))"
      ],
      "execution_count": null,
      "outputs": [
        {
          "output_type": "stream",
          "text": [
            "cat 3\n",
            "window 6\n",
            "defenestrate 12\n"
          ],
          "name": "stdout"
        }
      ]
    },
    {
      "cell_type": "markdown",
      "metadata": {
        "id": "syzDawFJ5Jua"
      },
      "source": [
        "Veja como eu disse la no começo, a identação define o conjunto de ações. E seguindo o padrão explítico temos para cada palavra em palavras faça algo, poderiamos fazer com 'i' no lugar de word também mas não seria explicito certo?\n",
        "\n",
        "Mas digamos que você precisa realizar uma operação um número específico de vezes, é nesses casos que surgem a função range"
      ]
    },
    {
      "cell_type": "code",
      "metadata": {
        "colab": {
          "base_uri": "https://localhost:8080/"
        },
        "id": "-gBhOOjS5y2a",
        "outputId": "38c0499e-793b-4e95-fd61-ec60e3971221"
      },
      "source": [
        "for i in range(5):\n",
        "    print(i)"
      ],
      "execution_count": null,
      "outputs": [
        {
          "output_type": "stream",
          "text": [
            "0\n",
            "1\n",
            "2\n",
            "3\n",
            "4\n"
          ],
          "name": "stdout"
        }
      ]
    },
    {
      "cell_type": "markdown",
      "metadata": {
        "id": "YqnEZwmX5-Kp"
      },
      "source": [
        "Note que a função começa por padrão em 0 (você pode alterar o ínicio dela caso deseje) e sempre termina em n-1, onde n é o número que você passou na função."
      ]
    },
    {
      "cell_type": "code",
      "metadata": {
        "colab": {
          "base_uri": "https://localhost:8080/"
        },
        "id": "HZucpgmr6Gvm",
        "outputId": "2b005f8a-4b3e-485b-b078-6ac4ca912161"
      },
      "source": [
        "for i in range(2,5):\n",
        "    print(i)"
      ],
      "execution_count": null,
      "outputs": [
        {
          "output_type": "stream",
          "text": [
            "2\n",
            "3\n",
            "4\n"
          ],
          "name": "stdout"
        }
      ]
    },
    {
      "cell_type": "code",
      "metadata": {
        "colab": {
          "base_uri": "https://localhost:8080/"
        },
        "id": "NEIwx7Y_6X1L",
        "outputId": "79b1099d-9023-412a-803a-464267e458f3"
      },
      "source": [
        "for i in range(0,10,3):\n",
        "    print(i)"
      ],
      "execution_count": null,
      "outputs": [
        {
          "output_type": "stream",
          "text": [
            "0\n",
            "3\n",
            "6\n",
            "9\n"
          ],
          "name": "stdout"
        }
      ]
    },
    {
      "cell_type": "code",
      "metadata": {
        "colab": {
          "base_uri": "https://localhost:8080/"
        },
        "id": "EqVCFFKN7AnT",
        "outputId": "c7dba26d-612d-4dee-bc68-886930222df9"
      },
      "source": [
        "a = ['Mary', 'had', 'a', 'little', 'lamb']\n",
        "for i in range(len(a)):\n",
        "     print(i, a[i])"
      ],
      "execution_count": null,
      "outputs": [
        {
          "output_type": "stream",
          "text": [
            "0 Mary\n",
            "1 had\n",
            "2 a\n",
            "3 little\n",
            "4 lamb\n"
          ],
          "name": "stdout"
        }
      ]
    },
    {
      "cell_type": "markdown",
      "metadata": {
        "id": "esGW_Iz27k30"
      },
      "source": [
        "Comando continue assim como em C, continua com a próxima iteração do laço"
      ]
    },
    {
      "cell_type": "code",
      "metadata": {
        "id": "hV53o7Ge7hwy"
      },
      "source": [
        "for num in range(2, 10):\n",
        "     if num % 2 == 0:\n",
        "         print(\"Found an even number\", num)\n",
        "         continue\n",
        "     print(\"Found an odd number\", num)"
      ],
      "execution_count": null,
      "outputs": []
    },
    {
      "cell_type": "markdown",
      "metadata": {
        "id": "w2TbdoMP84L-"
      },
      "source": [
        "O comando pass não faz nada em especial ele só passa "
      ]
    },
    {
      "cell_type": "code",
      "metadata": {
        "id": "ZVYGI7Ai9CX5"
      },
      "source": [
        "def initlog(*args):\n",
        "    pass # Precisa ser implementada"
      ],
      "execution_count": null,
      "outputs": []
    },
    {
      "cell_type": "markdown",
      "metadata": {
        "id": "dhMpCucJ9QXx"
      },
      "source": [
        "Ainda temos o break, que sai imediatamente do laço mais interno nesse caso achei o exemplo da documentação meio confuso e decidi deixar de fora.\n",
        "\n",
        "Sobre funções, ja vimos até agora diversas vezes o comando \"def\" mas de fato não foi implementado nada até agora então vamos ver"
      ]
    },
    {
      "cell_type": "markdown",
      "metadata": {
        "id": "LPxJHMEf_iRC"
      },
      "source": [
        ""
      ]
    },
    {
      "cell_type": "code",
      "metadata": {
        "colab": {
          "base_uri": "https://localhost:8080/"
        },
        "id": "wJKPYQqd9PjM",
        "outputId": "ed4d0fd3-79e9-4583-f296-0cc92dac82cf"
      },
      "source": [
        "def fibonacci(n):\n",
        "  \"\"\"Print a Fibonacci series up to n.\"\"\"\n",
        "  a, b = 0, 1\n",
        "  while a < n:\n",
        "    print(a, end=' ')\n",
        "    a, b = b, a + b\n",
        "  print()\n",
        "\n",
        "fibonacci(5)"
      ],
      "execution_count": null,
      "outputs": [
        {
          "output_type": "stream",
          "text": [
            "0 1 1 2 3 \n"
          ],
          "name": "stdout"
        }
      ]
    },
    {
      "cell_type": "code",
      "metadata": {
        "colab": {
          "base_uri": "https://localhost:8080/"
        },
        "id": "l6p2jbO5-IRk",
        "outputId": "cb21b06a-5495-4aef-b435-f8068657964e"
      },
      "source": [
        "def soma(**kwargs):\n",
        "\n",
        "  for kw in kwargs:\n",
        "        print(kw, \":\", kwargs[kw])\n",
        "\n",
        "numeros = [1, 2, 3, 4, 5, 6, 7]\n",
        "soma(idade={'adriano':30, 'joao':20},tel={'adriano':3821})"
      ],
      "execution_count": null,
      "outputs": [
        {
          "output_type": "stream",
          "text": [
            "idade : {'adriano': 30, 'joao': 20}\n",
            "tel : {'adriano': 3821}\n"
          ],
          "name": "stdout"
        }
      ]
    },
    {
      "cell_type": "markdown",
      "metadata": {
        "id": "IDDHwrXFAb0O"
      },
      "source": [
        "A linha com as 3 aspas duplas é o chamado docstring, normalmente usamos ela pra informar ao usuário o que uma função faz, quais parametros recebe e retorna (há uma seção na documentação sobre isso).\n",
        "\n",
        "Um ponto que por muitas vezes vi por ai e me perguntei era o que significava * args e ** kwargs em um escopo das funções. De forma simples o argumento com 2 asteriscos recebe um dicionário e o com 1 rece uma tupla (veremos depois o que isso significa)"
      ]
    },
    {
      "cell_type": "code",
      "metadata": {
        "id": "3j1bmugnBULQ"
      },
      "source": [
        "def cheeseshop(kind, *arguments, **keywords):\n",
        "    print(\"-- Do you have any\", kind, \"?\")\n",
        "    print(\"-- I'm sorry, we're all out of\", kind)\n",
        "    for arg in arguments:\n",
        "        print(arg)\n",
        "    print(\"-\" * 40)\n",
        "    for kw in keywords:\n",
        "        print(kw, \":\", keywords[kw])"
      ],
      "execution_count": null,
      "outputs": []
    },
    {
      "cell_type": "code",
      "metadata": {
        "id": "7v4ib4fQBYvl"
      },
      "source": [
        "cheeseshop(\"Limburger\", \"It's very runny, sir.\",\n",
        "           \"It's really very, VERY runny, sir.\",\n",
        "           shopkeeper=\"Michael Palin\",\n",
        "           client=\"John Cleese\",\n",
        "           sketch=\"Cheese Shop Sketch\")"
      ],
      "execution_count": null,
      "outputs": []
    },
    {
      "cell_type": "markdown",
      "metadata": {
        "id": "MiV5S8QcCHHg"
      },
      "source": [
        "Também podemos definir argumentos padrões (como no caso da função range)."
      ]
    },
    {
      "cell_type": "code",
      "metadata": {
        "id": "SXt1PAcyCOQr"
      },
      "source": [
        "def sum(primeiro_numero=0,segundo_numero=0):\n",
        "  print(primeiro_numero + segundo_numero)"
      ],
      "execution_count": null,
      "outputs": []
    },
    {
      "cell_type": "code",
      "metadata": {
        "colab": {
          "base_uri": "https://localhost:8080/"
        },
        "id": "B9B9IZzUCfTj",
        "outputId": "d3cf55fd-bba7-43f3-97a5-cc9b405f62a9"
      },
      "source": [
        "sum()"
      ],
      "execution_count": null,
      "outputs": [
        {
          "output_type": "stream",
          "text": [
            "0\n"
          ],
          "name": "stdout"
        }
      ]
    },
    {
      "cell_type": "code",
      "metadata": {
        "colab": {
          "base_uri": "https://localhost:8080/"
        },
        "id": "bP3wDMCDChQH",
        "outputId": "e074067c-a5e7-4398-ee67-597c87173361"
      },
      "source": [
        "sum(3,)"
      ],
      "execution_count": null,
      "outputs": [
        {
          "output_type": "stream",
          "text": [
            "3\n"
          ],
          "name": "stdout"
        }
      ]
    },
    {
      "cell_type": "code",
      "metadata": {
        "colab": {
          "base_uri": "https://localhost:8080/"
        },
        "id": "VcX5oys9CjP-",
        "outputId": "94a01746-f20d-4d86-deed-6a54114b2fa5"
      },
      "source": [
        "sum(segundo_numero= 3)"
      ],
      "execution_count": null,
      "outputs": [
        {
          "output_type": "stream",
          "text": [
            "3\n"
          ],
          "name": "stdout"
        }
      ]
    },
    {
      "cell_type": "code",
      "metadata": {
        "colab": {
          "base_uri": "https://localhost:8080/"
        },
        "id": "u9AsOtUzClDy",
        "outputId": "126bd7c0-6cf0-4180-8607-94168d185c76"
      },
      "source": [
        "sum(2,5)"
      ],
      "execution_count": null,
      "outputs": [
        {
          "output_type": "stream",
          "text": [
            "7\n"
          ],
          "name": "stdout"
        }
      ]
    },
    {
      "cell_type": "markdown",
      "metadata": {
        "id": "M6Wbiw5dCydw"
      },
      "source": [
        "Funções lambda são simples e rápida mas podem soar um pouco estranho no começo e não são nada mais que açucar sintátito (deixa o código mais bonito)"
      ]
    },
    {
      "cell_type": "code",
      "metadata": {
        "colab": {
          "base_uri": "https://localhost:8080/"
        },
        "id": "jUgRrjNUDEr_",
        "outputId": "c30110dd-0a17-4ed1-ac3d-f906a96fbcff"
      },
      "source": [
        "squares = list(map(lambda x: x**2, range(10)))\n",
        "#squares = [x**2 for x in range(10)]\n",
        "print(squares)\n",
        "\n"
      ],
      "execution_count": null,
      "outputs": [
        {
          "output_type": "stream",
          "text": [
            "[0, 1, 4, 9, 16, 25, 36, 49, 64, 81]\n"
          ],
          "name": "stdout"
        }
      ]
    },
    {
      "cell_type": "markdown",
      "metadata": {
        "id": "h5BCkYwmQuYw"
      },
      "source": [
        "## Listas, Dicionários, Sets e Tuplas"
      ]
    },
    {
      "cell_type": "markdown",
      "metadata": {
        "id": "F0S6NSZxQ63c"
      },
      "source": [
        "Apesar de terem funções parecidas esses tipos de variáveis são diferentes entre si e tem comportamentos e funções diferentes.\n",
        "\n",
        "Comecemos pelas lista, o tipo mais comum mas na maioria das vezes por desconhecimento dos outros tipos. "
      ]
    },
    {
      "cell_type": "code",
      "metadata": {
        "id": "i_oBgQmwQ7Ap"
      },
      "source": [
        "numeros = [10, 0, 80, 156, 45, 19]"
      ],
      "execution_count": null,
      "outputs": []
    },
    {
      "cell_type": "code",
      "metadata": {
        "colab": {
          "base_uri": "https://localhost:8080/"
        },
        "id": "tZENYy5NUBt9",
        "outputId": "555dab36-0cca-412c-af74-8eb64e84139a"
      },
      "source": [
        "numeros.append(5)\n",
        "numeros"
      ],
      "execution_count": null,
      "outputs": [
        {
          "output_type": "execute_result",
          "data": {
            "text/plain": [
              "[10, 0, 80, 156, 45, 19, 5]"
            ]
          },
          "metadata": {
            "tags": []
          },
          "execution_count": 91
        }
      ]
    },
    {
      "cell_type": "code",
      "metadata": {
        "colab": {
          "base_uri": "https://localhost:8080/"
        },
        "id": "FB2ibUzNUGcN",
        "outputId": "3d9a6e81-e42f-4a52-d76e-40c1d380327f"
      },
      "source": [
        "numeros.insert(3,10)\n",
        "numeros"
      ],
      "execution_count": null,
      "outputs": [
        {
          "output_type": "execute_result",
          "data": {
            "text/plain": [
              "[10, 0, 80, 10, 156, 45, 19, 5]"
            ]
          },
          "metadata": {
            "tags": []
          },
          "execution_count": 92
        }
      ]
    },
    {
      "cell_type": "code",
      "metadata": {
        "id": "dLr0vRG-UPix",
        "colab": {
          "base_uri": "https://localhost:8080/"
        },
        "outputId": "8df95ae3-4b32-4333-b469-86be27fbe0d3"
      },
      "source": [
        "numeros.remove(10)\n",
        "numeros"
      ],
      "execution_count": null,
      "outputs": [
        {
          "output_type": "execute_result",
          "data": {
            "text/plain": [
              "[0, 80, 10, 156, 45, 19, 5]"
            ]
          },
          "metadata": {
            "tags": []
          },
          "execution_count": 85
        }
      ]
    },
    {
      "cell_type": "code",
      "metadata": {
        "id": "gnxVK0LlUX8M",
        "colab": {
          "base_uri": "https://localhost:8080/"
        },
        "outputId": "9e8d04b8-d601-4d13-d73c-b5f5732fc380"
      },
      "source": [
        "numeros.pop()\n",
        "numeros"
      ],
      "execution_count": null,
      "outputs": [
        {
          "output_type": "execute_result",
          "data": {
            "text/plain": [
              "[0, 80, 10, 156, 45]"
            ]
          },
          "metadata": {
            "tags": []
          },
          "execution_count": 87
        }
      ]
    },
    {
      "cell_type": "code",
      "metadata": {
        "id": "M3dmuU4AUbEH",
        "colab": {
          "base_uri": "https://localhost:8080/"
        },
        "outputId": "9485f8b5-e158-4612-e279-313c1d7869c9"
      },
      "source": [
        "numeros.clear()\n",
        "numeros"
      ],
      "execution_count": null,
      "outputs": [
        {
          "output_type": "execute_result",
          "data": {
            "text/plain": [
              "[]"
            ]
          },
          "metadata": {
            "tags": []
          },
          "execution_count": 89
        }
      ]
    },
    {
      "cell_type": "code",
      "metadata": {
        "id": "sXTGKzrSUgza",
        "colab": {
          "base_uri": "https://localhost:8080/"
        },
        "outputId": "56c3a4d6-459a-4a2f-bbba-b61e20fdc531"
      },
      "source": [
        "numeros.count(10)"
      ],
      "execution_count": null,
      "outputs": [
        {
          "output_type": "execute_result",
          "data": {
            "text/plain": [
              "2"
            ]
          },
          "metadata": {
            "tags": []
          },
          "execution_count": 93
        }
      ]
    },
    {
      "cell_type": "code",
      "metadata": {
        "id": "dCMy94GjUkWc",
        "colab": {
          "base_uri": "https://localhost:8080/"
        },
        "outputId": "b2344970-2756-4a8c-9f9d-2446cb47da1c"
      },
      "source": [
        "numeros.sort()\n",
        "numeros"
      ],
      "execution_count": null,
      "outputs": [
        {
          "output_type": "execute_result",
          "data": {
            "text/plain": [
              "[0, 5, 10, 10, 19, 45, 80, 156]"
            ]
          },
          "metadata": {
            "tags": []
          },
          "execution_count": 94
        }
      ]
    },
    {
      "cell_type": "code",
      "metadata": {
        "id": "OFFRiHJQUmcR",
        "colab": {
          "base_uri": "https://localhost:8080/"
        },
        "outputId": "17a8bcea-1265-4bae-b64c-bc715f16100a"
      },
      "source": [
        "numeros.reverse()\n",
        "numeros"
      ],
      "execution_count": null,
      "outputs": [
        {
          "output_type": "execute_result",
          "data": {
            "text/plain": [
              "[156, 80, 45, 19, 10, 10, 5, 0]"
            ]
          },
          "metadata": {
            "tags": []
          },
          "execution_count": 95
        }
      ]
    },
    {
      "cell_type": "markdown",
      "metadata": {
        "id": "VfbgIxDvUscL"
      },
      "source": [
        "Pra quem ja conhece o funcionamento de uma lista no python por padrão é de PILHA, ou seja o último número a entrar é o primeiro a sair. Vejamos como criar uma FILA então:"
      ]
    },
    {
      "cell_type": "code",
      "metadata": {
        "id": "MNBhtEI4U6Si",
        "colab": {
          "base_uri": "https://localhost:8080/",
          "height": 42
        },
        "outputId": "a7ffe0ac-17b3-409a-99d8-aac018379937"
      },
      "source": [
        "from collections import deque\n",
        "queue = deque([\"Eric\", \"John\", \"Michael\"])\n",
        "queue.append(\"Terry\")           # Terry arrives\n",
        "queue.append(\"Graham\")          # Graham arrives\n",
        "queue.popleft()"
      ],
      "execution_count": null,
      "outputs": [
        {
          "output_type": "execute_result",
          "data": {
            "application/vnd.google.colaboratory.intrinsic+json": {
              "type": "string"
            },
            "text/plain": [
              "'Eric'"
            ]
          },
          "metadata": {
            "tags": []
          },
          "execution_count": 99
        }
      ]
    },
    {
      "cell_type": "markdown",
      "metadata": {
        "id": "nFQoi5yKV3wJ"
      },
      "source": [
        "Veja que as listas podem ser de string também."
      ]
    },
    {
      "cell_type": "markdown",
      "metadata": {
        "id": "XfqZONspVMI-"
      },
      "source": [
        "Outro conceito interessante em listas é a noção de list comprehensions (compressão de lista) vou mostrar 3 exemplos que fazem o mesmo"
      ]
    },
    {
      "cell_type": "code",
      "metadata": {
        "id": "crmlObuNVXj6",
        "colab": {
          "base_uri": "https://localhost:8080/"
        },
        "outputId": "5b871660-77ac-4c18-8102-45529968d726"
      },
      "source": [
        "quadrados = []\n",
        "for x in range(10):\n",
        "  quadrados.append(x**2)\n",
        "\n",
        "quadrados"
      ],
      "execution_count": null,
      "outputs": [
        {
          "output_type": "execute_result",
          "data": {
            "text/plain": [
              "[0, 1, 4, 9, 16, 25, 36, 49, 64, 81]"
            ]
          },
          "metadata": {
            "tags": []
          },
          "execution_count": 100
        }
      ]
    },
    {
      "cell_type": "code",
      "metadata": {
        "id": "Nx4dNMOuVg-P",
        "colab": {
          "base_uri": "https://localhost:8080/"
        },
        "outputId": "c0b7cad0-22ff-48f3-d983-251274a05be8"
      },
      "source": [
        "quadrados = []\n",
        "\n",
        "quadrados = list(map(lambda x: x**2, range(10)))\n",
        "quadrados"
      ],
      "execution_count": null,
      "outputs": [
        {
          "output_type": "execute_result",
          "data": {
            "text/plain": [
              "[0, 1, 4, 9, 16, 25, 36, 49, 64, 81]"
            ]
          },
          "metadata": {
            "tags": []
          },
          "execution_count": 102
        }
      ]
    },
    {
      "cell_type": "code",
      "metadata": {
        "id": "gjTJvz8AVkaS"
      },
      "source": [
        "quadrados  = [x**2 for x in range(10)] "
      ],
      "execution_count": null,
      "outputs": []
    },
    {
      "cell_type": "markdown",
      "metadata": {
        "id": "0YvwpZu8WK6D"
      },
      "source": [
        "O próximo item são as tuplas, objetos imutáveis (quando eu digo objeto é porque ela pode conter assim como as listas, objetos de todos os tipos até variáveis básicas)"
      ]
    },
    {
      "cell_type": "code",
      "metadata": {
        "colab": {
          "base_uri": "https://localhost:8080/"
        },
        "id": "QDauaa8TV2CK",
        "outputId": "a6504514-a581-499f-9587-cad59c50fd97"
      },
      "source": [
        "tupla = ()\n",
        "tupla2 = 1, 3, \"Hello\"\n",
        "\n",
        "tupla3 = [1,2,4], \"Helo\"\n",
        "\n",
        "tupla5 = tupla, tupla2, tupla3\n",
        "print(tupla5) "
      ],
      "execution_count": null,
      "outputs": [
        {
          "output_type": "stream",
          "text": [
            "((), (1, 3, 'Hello'), ([1, 2, 4], 'Helo'))\n"
          ],
          "name": "stdout"
        }
      ]
    },
    {
      "cell_type": "markdown",
      "metadata": {
        "id": "-dKkskOTXvgy"
      },
      "source": [
        "Set, ou Conjuntos, suportam as mesmas operações matemáticas já conhecidas pela maioria das pessoas (união, interseção..)"
      ]
    },
    {
      "cell_type": "code",
      "metadata": {
        "colab": {
          "base_uri": "https://localhost:8080/"
        },
        "id": "xRDrSkFKYE2z",
        "outputId": "cda42565-26dd-471e-83bf-41188a0e890d"
      },
      "source": [
        "basket = {'apple', 'orange', 'apple', 'pear', 'orange', 'banana'}\n",
        "print(basket)                      # show that duplicates have been removed\n",
        "{'orange', 'banana', 'pear', 'apple'}\n",
        "print('orange' in basket)                 # fast membership testing\n",
        "\n",
        "print('crabgrass' in basket)\n",
        "\n",
        "# Demonstrate set operations on unique letters from two words\n",
        "a = set('abracadabra')\n",
        "b = set('alacazam')\n",
        "vazio = set()\n",
        "print(a)                                  # unique letters in a\n",
        "print(a - b)                              # letters in a but not in b\n",
        "print(a | b)                              # letters in a or b or both\n",
        "print(a & b)                              # letters in both a and b\n",
        "print(a ^ b)                              # letters in a or b but not both"
      ],
      "execution_count": null,
      "outputs": [
        {
          "output_type": "stream",
          "text": [
            "{'banana', 'pear', 'apple', 'orange'}\n",
            "True\n",
            "False\n",
            "{'a', 'b', 'd', 'r', 'c'}\n",
            "{'d', 'b', 'r'}\n",
            "{'a', 'b', 'z', 'l', 'd', 'm', 'r', 'c'}\n",
            "{'a', 'c'}\n",
            "{'b', 'z', 'l', 'd', 'm', 'r'}\n"
          ],
          "name": "stdout"
        }
      ]
    },
    {
      "cell_type": "markdown",
      "metadata": {
        "id": "diu_8Ei9Yt9S"
      },
      "source": [
        "Por último mas não menos importante, dicionários. São vetores associativos, ou como uma agenda telefonica, se você quiser o número de uma pessoa deve buscar primeiro pelo nome."
      ]
    },
    {
      "cell_type": "code",
      "metadata": {
        "id": "LwlhuJM8ZVwh",
        "colab": {
          "base_uri": "https://localhost:8080/"
        },
        "outputId": "24a6bb83-544c-4b13-ee34-77197efd908f"
      },
      "source": [
        "telefones = {'Mariazinha':39397070, 'Joãozinho': 38888888}\n",
        "telefones['Chefe'] = 35465869\n",
        "\n",
        "print(telefones)\n",
        "print(telefones['Joãozinho'])\n",
        "del telefones['Chefe']\n",
        "\n",
        "telefones = list(telefones)\n",
        "sorted(telefones)"
      ],
      "execution_count": null,
      "outputs": [
        {
          "output_type": "stream",
          "text": [
            "{'Mariazinha': 39397070, 'Joãozinho': 38888888, 'Chefe': 35465869}\n",
            "38888888\n"
          ],
          "name": "stdout"
        },
        {
          "output_type": "execute_result",
          "data": {
            "text/plain": [
              "['Joãozinho', 'Mariazinha']"
            ]
          },
          "metadata": {
            "tags": []
          },
          "execution_count": 107
        }
      ]
    },
    {
      "cell_type": "markdown",
      "metadata": {
        "id": "JQ1LGmE_Z6jL"
      },
      "source": [
        "Mas pra facilitar o trabalho com dicionários podemos utilizar da seguinte maneira:"
      ]
    },
    {
      "cell_type": "code",
      "metadata": {
        "id": "MkhMGwjXZ_bG",
        "colab": {
          "base_uri": "https://localhost:8080/"
        },
        "outputId": "de65deaf-2662-4f8a-e0d2-12461c664532"
      },
      "source": [
        "knights = {'gallahad': 'the pure', 'robin': 'the brave'}\n",
        "for k, v in knights.items():\n",
        "    print(k, v)"
      ],
      "execution_count": null,
      "outputs": [
        {
          "output_type": "stream",
          "text": [
            "gallahad the pure\n",
            "robin the brave\n"
          ],
          "name": "stdout"
        }
      ]
    },
    {
      "cell_type": "markdown",
      "metadata": {
        "id": "F2WAFw9cQ1Av"
      },
      "source": [
        "## Módulos e Pacotes"
      ]
    },
    {
      "cell_type": "markdown",
      "metadata": {
        "id": "px4Ij6JlQ9tF"
      },
      "source": [
        "O último tópico desse curso trata sobre a arquitetura do projeto. Imagine que você implementou diversos algoritmos e funções e você gostaria de usar elas de novo em outro projeto sem precisar escrever tudo de novo, é ai que entra o conceito de módulo e ainda mais pacotes.\n",
        "\n",
        "Módulo é um arquivo único contendo as funções referentes aquele arquivo. Já um pacote é um conjunto de módulos, mas nesse caso precisamos informar o python que é um pacote e que possu uma hierarquia. pra isso utilizamos um arquivo nomeado _ _ init _ _.py "
      ]
    },
    {
      "cell_type": "markdown",
      "metadata": {
        "id": "dfe6z9QHzUs3"
      },
      "source": [
        "![image.png](data:image/png;base64,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)"
      ]
    },
    {
      "cell_type": "code",
      "metadata": {
        "id": "p73LYmQlQ92g"
      },
      "source": [
        "sound.filters.equalizer\n",
        "from pandas import read_csv"
      ],
      "execution_count": null,
      "outputs": []
    },
    {
      "cell_type": "markdown",
      "metadata": {
        "id": "wYqDPBFiQViQ"
      },
      "source": [
        "## Exercícios \n",
        "\n",
        "\n",
        "[Documentos aqui](https://docs.google.com/document/d/17rHm6zKh1HhCZtG6Ns8n5mRsVsb0aohekOpQKcmx7XY/edit?usp=sharing)"
      ]
    }
  ]
}